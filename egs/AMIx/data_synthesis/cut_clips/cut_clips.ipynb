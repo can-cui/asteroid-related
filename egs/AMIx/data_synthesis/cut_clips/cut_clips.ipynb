{
 "cells": [
  {
   "cell_type": "code",
   "execution_count": 1,
   "metadata": {},
   "outputs": [],
   "source": [
    "import glob\n",
    "import os\n",
    "import json\n",
    "import xml.etree.ElementTree as et\n",
    "import pandas as pd\n",
    "import soundfile as sf\n",
    "import numpy as np\n",
    "from pathlib import Path\n",
    "import itertools\n",
    "import matplotlib.pyplot as plt"
   ]
  },
  {
   "cell_type": "code",
   "execution_count": 3,
   "metadata": {},
   "outputs": [],
   "source": [
    "with open(\n",
    "        '/Users/ccui/Desktop/asteroid/egs/AMIx/data_statistics/statistics.json',\n",
    "        \"r\") as f:\n",
    "    statistics = json.load(f)\n"
   ]
  },
  {
   "cell_type": "code",
   "execution_count": 6,
   "metadata": {},
   "outputs": [
    {
     "data": {
      "image/png": "[encoded data removed]",
      "text/plain": [
       "<Figure size 1600x800 with 1 Axes>"
      ]
     },
     "metadata": {
      "needs_background": "light"
     },
     "output_type": "display_data"
    }
   ],
   "source": [
    "fig = plt.figure(figsize=(20,10),dpi=80)\n",
    "overlap = pd.Series([s for s in statistics[0] if s>=4000 and s<= 50000])\n",
    "overlap.plot.hist(grid=True, bins=100, rwidth=0.8,\n",
    "                color='#607c8e')\n",
    "plt.xlabel('Clip duration (Milliseconds)')\n",
    "plt.ylabel('Number of clips')\n",
    "plt.title('One speaker part')\n",
    "plt.show()"
   ]
  },
  {
   "cell_type": "code",
   "execution_count": 7,
   "metadata": {},
   "outputs": [],
   "source": [
    "# Get an Array of all 0's and 1's based on annotation and the total audio length\n",
    "def get_binary_list(segment_path, total_dur):\n",
    "    tree = et.parse(segment_path)\n",
    "    root = tree.getroot()\n",
    "    # Create an array of all zeros and length total_dur\n",
    "    segs_arr = np.zeros(total_dur)\n",
    "    # convert second string to milliseccond int\n",
    "    segs = [[\n",
    "        elem.attrib[\"transcriber_start\"],\n",
    "        elem.attrib[\"transcriber_end\"],\n",
    "    ] for elem in root.iter(\"segment\")]\n",
    "    for dur in segs:\n",
    "        dur[0] = int(float(dur[0]) * 1000)\n",
    "        dur[1] = int(float(dur[1]) * 1000)\n",
    "    # Set the value on the array corresponding to the position of each interval in segs to 1\n",
    "    for seg in segs:\n",
    "        start_seg = seg[0]\n",
    "        end_seg = seg[1] + 1\n",
    "        segs_arr[start_seg:end_seg] = 1\n",
    "    return segs_arr"
   ]
  },
  {
   "cell_type": "code",
   "execution_count": 31,
   "metadata": {},
   "outputs": [
    {
     "name": "stdout",
     "output_type": "stream",
     "text": [
      "1272640\n",
      "-3.0\n",
      "1272640\n",
      "0.0\n"
     ]
    }
   ],
   "source": [
    "array_path = \"/Users/ccui/Desktop/AMI_sample/amicorpus/ES2002a/audio/ES2002a.Array1-01.wav\"\n",
    "array, fs = sf.read(\n",
    "    array_path,\n",
    "    dtype=\"float32\",\n",
    ")\n",
    "total_dur = int(len(array) / fs * 1000)\n",
    "meeting_name = \"ES2002a\"\n",
    "segment_path = \"/Users/ccui/Desktop/AMI_sample/annotations/segments\"\n",
    "segment_list = glob.glob(os.path.join(segment_path, \"*\"))\n",
    "\n",
    "seg_path_list = []\n",
    "for seg in segment_list:\n",
    "    seg_meeting_name = Path(seg).stem.split(\".\")[0]\n",
    "    if seg_meeting_name == meeting_name:\n",
    "        seg_path_list.append(str(Path(seg)))\n",
    "# print(seg_path_list)\n",
    "target_spk = \"A\"\n",
    "ref_overlap = np.zeros(total_dur)\n",
    "for index in range(len(seg_path_list)):\n",
    "    seg_path = seg_path_list[index]\n",
    "    spk = seg_path.split(\".\")[1]\n",
    "    if spk == target_spk:\n",
    "        target_annot = get_binary_list(seg_path, total_dur)\n",
    "\n",
    "    else:\n",
    "        ref_annot = seg_path\n",
    "        seg_list = get_binary_list(ref_annot, total_dur)\n",
    "        ref_overlap += seg_list\n",
    "\n",
    "subtr = target_annot - ref_overlap\n",
    "target = np.maximum(subtr,0)\n",
    "print(len(subtr))\n",
    "print(min(subtr))\n",
    "print(len(target))\n",
    "print(min(target))"
   ]
  },
  {
   "cell_type": "code",
   "execution_count": 51,
   "metadata": {},
   "outputs": [],
   "source": [
    "def get_target_from_targetSpk(target_spk,total_dur,seg_path_list):\n",
    "    ref_overlap = np.zeros(total_dur)\n",
    "    for index in range(len(seg_path_list)):\n",
    "        seg_path = seg_path_list[index]\n",
    "        spk = seg_path.split(\".\")[1]\n",
    "        if spk == target_spk:\n",
    "            target_annot = get_binary_list(seg_path, total_dur)\n",
    "\n",
    "        else:\n",
    "            ref_annot = seg_path\n",
    "            seg_list = get_binary_list(ref_annot, total_dur)\n",
    "            ref_overlap += seg_list\n",
    "    \n",
    "    subtr = target_annot - ref_overlap\n",
    "    target = np.maximum(subtr,0)\n",
    "    return target"
   ]
  },
  {
   "cell_type": "code",
   "execution_count": 45,
   "metadata": {},
   "outputs": [
    {
     "name": "stdout",
     "output_type": "stream",
     "text": [
      "[[319000, 323000], [320000, 324000], [321000, 325000], [322000, 326000], [323000, 327000], [329000, 333000], [330000, 334000], [331000, 335000], [572000, 576000], [573000, 577000], [574000, 578000], [575000, 579000], [576000, 580000]]\n"
     ]
    }
   ],
   "source": [
    "win_size = 4000 # 4 seconds\n",
    "thresh = 4000\n",
    "step = 1000\n",
    "local_save_dir = \"/Users/ccui/Desktop/AMI_sample/clips_monoSpk\"\n",
    "\n",
    "meeting_folder = os.path.join(local_save_dir, meeting_name)\n",
    "if not os.path.exists(meeting_folder):\n",
    "    os.makedirs(meeting_folder)\n",
    "\n",
    "target_spk_folder = os.path.join(meeting_folder, target_spk)\n",
    "if not os.path.exists(target_spk_folder):\n",
    "    os.makedirs(target_spk_folder)\n",
    "start_point_list = list(range(0,len(target)-win_size,step))\n",
    "clips_seg_list = []\n",
    "for start_point in start_point_list:\n",
    "    end_point = start_point + win_size\n",
    "    seg = target[start_point:end_point]\n",
    "    if seg.sum() == thresh:\n",
    "        clips_seg_list.append([start_point,end_point])\n",
    "print(clips_seg_list)"
   ]
  },
  {
   "cell_type": "code",
   "execution_count": 47,
   "metadata": {},
   "outputs": [],
   "source": [
    "for index in range(len(clips_seg_list)):\n",
    "    clips_seg = clips_seg_list[index]\n",
    "    start_clip = int(clips_seg[0]* (fs/1000))\n",
    "    end_clip = int(clips_seg[1]* (fs/1000))\n",
    "    sample_folder = os.path.join(target_spk_folder, \"sample\" + str(index+1))\n",
    "    if not os.path.exists(sample_folder):\n",
    "        os.makedirs(sample_folder)\n",
    "    clip = array[start_clip:end_clip]\n",
    "    sf.write(\n",
    "        sample_folder + \"/%s_%s.wav\" %\n",
    "        (target_spk, array_path.split(\".\")[-2]),\n",
    "        clip,\n",
    "        fs,\n",
    "    )\n",
    "    \n"
   ]
  },
  {
   "cell_type": "code",
   "execution_count": 60,
   "metadata": {},
   "outputs": [],
   "source": [
    "def get_clips_from_targetSpk(win_size,thresh,step,target,target_spk,meeting_folder,array_path_list,fs):\n",
    "    target_spk_folder = os.path.join(meeting_folder, target_spk)\n",
    "    if not os.path.exists(target_spk_folder):\n",
    "        os.makedirs(target_spk_folder)\n",
    "    start_point_list = list(range(0, len(target) - win_size, step))\n",
    "    clips_seg_list = []\n",
    "    for start_point in start_point_list:\n",
    "        end_point = start_point + win_size\n",
    "        seg = target[start_point:end_point]\n",
    "        if seg.sum() == thresh:\n",
    "            clips_seg_list.append([start_point, end_point])\n",
    "    for index in range(len(clips_seg_list)):\n",
    "        clips_seg = clips_seg_list[index]\n",
    "        start_clip = int(clips_seg[0]* (fs/1000))\n",
    "        end_clip = int(clips_seg[1]* (fs/1000))\n",
    "        sample_folder = os.path.join(target_spk_folder, \"sample\" + str(index+1))\n",
    "        if not os.path.exists(sample_folder):\n",
    "            os.makedirs(sample_folder)\n",
    "        for array_path in array_path_list:\n",
    "            array, fs = sf.read(\n",
    "            array_path,\n",
    "            dtype=\"float32\",\n",
    "            )\n",
    "            clip = array[start_clip:end_clip]\n",
    "            sf.write(\n",
    "                sample_folder + \"/%s_%s.wav\" %\n",
    "                (target_spk, array_path.split(\".\")[-2]),\n",
    "                clip,\n",
    "                fs,\n",
    "            )\n"
   ]
  },
  {
   "cell_type": "code",
   "execution_count": 71,
   "metadata": {},
   "outputs": [
    {
     "name": "stdout",
     "output_type": "stream",
     "text": [
      "8934\n",
      "8833\n",
      "6568\n",
      "75082\n"
     ]
    }
   ],
   "source": [
    "in_dir = \"/Users/ccui/Desktop/AMI_sample/amicorpus\"\n",
    "folder_list = glob.glob(os.path.join(in_dir, \"*\"))\n",
    "segment_path = \"/Users/ccui/Desktop/AMI_sample/annotations/segments\"\n",
    "segment_list = glob.glob(os.path.join(segment_path, \"*\"))\n",
    "local_save_dir = \"/Users/ccui/Desktop/AMI_sample/clips_monoSpk\"\n",
    "win_size = 4000  # 4 seconds\n",
    "thresh = 4000\n",
    "step = 1000\n",
    "\n",
    "\n",
    "for folder in folder_list:\n",
    "    wavs = glob.glob(os.path.join(folder, \"audio/*\"))\n",
    "    meeting_name = Path(folder).stem.split(\".\")[-1]\n",
    "    meeting_folder = os.path.join(local_save_dir, meeting_name)\n",
    "    if not os.path.exists(meeting_folder):\n",
    "        os.makedirs(meeting_folder)\n",
    "    # Get all array channels of this meeting\n",
    "    array_path_list = []\n",
    "    for wav in wavs:\n",
    "        mic_type = Path(wav).stem.split(\".\")[-1].split(\"-\")[0]\n",
    "        if mic_type in [\"Array1\", \"Array2\"]:\n",
    "            array_path_list.append(str(Path(wav)))\n",
    "    # Get all seg annotations of this meeting\n",
    "    seg_path_list = []\n",
    "    spk_list = []\n",
    "    for seg in segment_list:\n",
    "        seg_meeting_name = Path(seg).stem.split(\".\")[0]\n",
    "        if seg_meeting_name == meeting_name:\n",
    "            seg_path_list.append(str(Path(seg)))\n",
    "            spk = seg.split(\".\")[-3]\n",
    "            spk_list.append(spk)\n",
    "    # Get reference audio duration\n",
    "    array_ref, fs = sf.read(\n",
    "    array_path_list[0],\n",
    "    dtype=\"float32\",\n",
    "    )\n",
    "    total_dur = int(len(array_ref) / fs * 1000)\n",
    "    for target_spk in spk_list:\n",
    "        target = get_target_from_targetSpk(target_spk,total_dur,seg_path_list)\n",
    "        seg_dur = [\n",
    "            len(list(v)) for k, v in itertools.groupby(target) if k == 1\n",
    "        ]\n",
    "        if max(seg_dur) >= thresh:\n",
    "            get_clips_from_targetSpk(win_size, thresh, step, target, target_spk,\n",
    "                                     meeting_folder, array_path_list,fs)\n",
    "    break\n"
   ]
  },
  {
   "cell_type": "code",
   "execution_count": 73,
   "metadata": {},
   "outputs": [],
   "source": [
    "f1 = open('oar100.txt', 'w')\n",
    "for idx in range(1, 172):\n",
    "    idx_s = str(idx)\n",
    "    f1.write('%s\\n' % (idx_s))\n",
    "f1.close()"
   ]
  },
  {
   "cell_type": "code",
   "execution_count": null,
   "metadata": {},
   "outputs": [],
   "source": []
  }
 ],
 "metadata": {
  "interpreter": {
   "hash": "40d3a090f54c6569ab1632332b64b2c03c39dcf918b08424e98f38b5ae0af88f"
  },
  "kernelspec": {
   "display_name": "Python 3.9.7 ('base')",
   "language": "python",
   "name": "python3"
  },
  "language_info": {
   "codemirror_mode": {
    "name": "ipython",
    "version": 3
   },
   "file_extension": ".py",
   "mimetype": "text/x-python",
   "name": "python",
   "nbconvert_exporter": "python",
   "pygments_lexer": "ipython3",
   "version": "3.9.7 (default, Sep 16 2021, 08:50:36) \n[Clang 10.0.0 ]"
  },
  "orig_nbformat": 4
 },
 "nbformat": 4,
 "nbformat_minor": 2
}

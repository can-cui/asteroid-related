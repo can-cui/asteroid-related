{
 "cells": [
  {
   "cell_type": "code",
   "execution_count": 1,
   "metadata": {},
   "outputs": [
    {
     "name": "stderr",
     "output_type": "stream",
     "text": [
      "/opt/anaconda3/lib/python3.9/site-packages/pydub/utils.py:170: RuntimeWarning: Couldn't find ffmpeg or avconv - defaulting to ffmpeg, but may not work\n",
      "  warn(\"Couldn't find ffmpeg or avconv - defaulting to ffmpeg, but may not work\", RuntimeWarning)\n"
     ]
    }
   ],
   "source": [
    "import glob\n",
    "import os\n",
    "import json\n",
    "import xml.etree.ElementTree as et\n",
    "import soundfile as sf\n",
    "import numpy as np\n",
    "from pathlib import Path\n",
    "from tqdm import tqdm\n",
    "import argparse\n",
    "import itertools\n",
    "import wave\n",
    "from pydub import AudioSegment"
   ]
  },
  {
   "cell_type": "code",
   "execution_count": 2,
   "metadata": {},
   "outputs": [],
   "source": [
    "a_path = \"/Users/ccui/Desktop/AMI_sample/clips_monoSpk/ES2002a/A/sample1/A_Array1-01.wav\"\n",
    "b_path = \"/Users/ccui/Desktop/AMI_sample/clips_monoSpk/ES2002a/B/sample1/B_Array1-01.wav\""
   ]
  },
  {
   "cell_type": "code",
   "execution_count": 14,
   "metadata": {},
   "outputs": [],
   "source": [
    "infiles = [a_path, b_path]\n",
    "outfile = \"/Users/ccui/Desktop/AMI_sample/clips_synthesis/ab_1.wav\"\n",
    "\n",
    "data= []\n",
    "for infile in infiles:\n",
    "    w = wave.open(infile, 'rb')\n",
    "    data.append( [w.getparams(), w.readframes(w.getnframes())] )\n",
    "    w.close()\n",
    "\n",
    "output = wave.open(outfile, 'wb')\n",
    "output.setparams(data[0][0])\n",
    "output.writeframes(data[0][1])\n",
    "output.writeframes(data[1][1])\n",
    "output.close()"
   ]
  },
  {
   "cell_type": "code",
   "execution_count": 5,
   "metadata": {},
   "outputs": [],
   "source": [
    "a = AudioSegment.from_file(\n",
    "    a_path,\n",
    "    format=\"wav\",\n",
    "    frame_rate=16000)\n",
    "b = AudioSegment.from_file(b_path, format=\"wav\")"
   ]
  },
  {
   "cell_type": "code",
   "execution_count": 6,
   "metadata": {},
   "outputs": [
    {
     "data": {
      "text/plain": [
       "<_io.BufferedRandom name='/Users/ccui/Desktop/AMI_sample/clips_synthesis/ab_1.wav'>"
      ]
     },
     "execution_count": 6,
     "metadata": {},
     "output_type": "execute_result"
    }
   ],
   "source": [
    "new = a+b\n",
    "new.export(\"/Users/ccui/Desktop/AMI_sample/clips_synthesis/ab_1.wav\",format=\"wav\")"
   ]
  },
  {
   "cell_type": "code",
   "execution_count": 18,
   "metadata": {},
   "outputs": [],
   "source": [
    "array, fs = sf.read(\n",
    "    \"/Users/ccui/Desktop/AMI_sample/clips_synthesis/ab_1.wav\",\n",
    "    dtype=\"float32\",\n",
    ")\n",
    "\n",
    "a, fs = sf.read(\n",
    "   a_path,\n",
    "    dtype=\"float32\",\n",
    ")\n",
    "b, fs = sf.read(\n",
    "   b_path,\n",
    "    dtype=\"float32\",\n",
    ")"
   ]
  },
  {
   "cell_type": "code",
   "execution_count": 19,
   "metadata": {},
   "outputs": [
    {
     "name": "stdout",
     "output_type": "stream",
     "text": [
      "(64000,)\n"
     ]
    }
   ],
   "source": [
    "print((a+b).shape)"
   ]
  },
  {
   "cell_type": "code",
   "execution_count": 22,
   "metadata": {},
   "outputs": [
    {
     "name": "stdout",
     "output_type": "stream",
     "text": [
      "1\n"
     ]
    }
   ],
   "source": [
    "print(len(a.shape))"
   ]
  },
  {
   "cell_type": "code",
   "execution_count": 20,
   "metadata": {},
   "outputs": [],
   "source": [
    "sf.write(\n",
    "    \"/Users/ccui/Desktop/AMI_sample/clips_synthesis/ab_1.wav\",\n",
    "    a+b,\n",
    "    fs,\n",
    ")\n"
   ]
  },
  {
   "cell_type": "code",
   "execution_count": 21,
   "metadata": {},
   "outputs": [
    {
     "name": "stdout",
     "output_type": "stream",
     "text": [
      "[('A', 'B'), ('A', 'C'), ('A', 'D'), ('B', 'C'), ('B', 'D'), ('C', 'D')]\n"
     ]
    }
   ],
   "source": [
    "l = [\"A\",\"B\",\"C\",\"D\"]\n",
    "print(list(itertools.combinations(l, 2)))"
   ]
  },
  {
   "cell_type": "code",
   "execution_count": 2,
   "metadata": {},
   "outputs": [],
   "source": [
    "in_dir = \"/Users/ccui/Desktop/AMI_sample/clips_monoSpk\"\n",
    "out_dir = \"/Users/ccui/Desktop/AMI_sample/clips_synthesis\"\n",
    "if not os.path.exists(out_dir):\n",
    "    os.makedirs(out_dir)\n",
    "\n",
    "folder_list = glob.glob(os.path.join(in_dir, \"*\"))\n",
    "for meeting in folder_list:\n",
    "    meeting_name = Path(meeting).stem.split(\".\")[-1]\n",
    "    spk_list = glob.glob(os.path.join(meeting, \"*\"))\n",
    "    # Combine speakers in pairs\n",
    "    spk_comb = list(itertools.combinations(spk_list, 2))\n",
    "    sample = 1\n",
    "    for couple in spk_comb:\n",
    "        spk1 = couple[0]\n",
    "        spk2 = couple[1]\n",
    "        # Get all samples for each speaker\n",
    "        spk1_samples = glob.glob(os.path.join(spk1, \"*\"))\n",
    "        spk2_samples = glob.glob(os.path.join(spk2, \"*\"))\n",
    "        # Combine samples in pairs\n",
    "        couple_com_list = list(itertools.product(spk1_samples,spk2_samples))\n",
    "        for couple_com in couple_com_list:\n",
    "            # Each sample has multiple arrays\n",
    "            arrays_spk1 = glob.glob(os.path.join(couple_com[0], \"*\"))\n",
    "            arrays_spk2 = glob.glob(os.path.join(couple_com[1], \"*\"))\n",
    "            mic_num = 1\n",
    "            # Synthesis two different sets of speakers with the same array number\n",
    "            for arr_spk1 in arrays_spk1:\n",
    "                arr_num_spk1 = Path(arr_spk1).stem.split(\".\")[-1].split(\"_\")[-1]\n",
    "                for arr_spk2 in arrays_spk2:\n",
    "                    arr_num_spk2 = Path(arr_spk2).stem.split(\".\")[-1].split(\"_\")[-1]\n",
    "                    if arr_num_spk1 == arr_num_spk2:\n",
    "                        mic = \"mic\"+str(mic_num)\n",
    "                        sample_folder = os.path.join(out_dir, meeting_name,\"sample\"+str(sample))\n",
    "                        if not os.path.exists(sample_folder):\n",
    "                            os.makedirs(sample_folder)\n",
    "                        spk1_file_name = os.path.join(sample_folder,\n",
    "                                                      \"spk1_\" + mic+\".wav\")\n",
    "                        cmd_cp_spk1 = f\"cp -f {arr_spk1} {spk1_file_name}\"\n",
    "                        os.system(cmd_cp_spk1)\n",
    "                        spk2_file_name = os.path.join(\n",
    "                            sample_folder, \"spk2_\" + mic + \".wav\")\n",
    "                        cmd_cp_spk2 = f\"cp -f {arr_spk2} {spk2_file_name}\"\n",
    "                        os.system(cmd_cp_spk2)\n",
    "                        mixture_file_name = os.path.join(\n",
    "                            sample_folder, \"mixture_\" + mic + \".wav\")\n",
    "\n",
    "                        spk1_wav, fs = sf.read(\n",
    "                            spk1_file_name,\n",
    "                            dtype=\"float32\",\n",
    "                        )\n",
    "                        spk2_wav, fs = sf.read(\n",
    "                            spk2_file_name,\n",
    "                            dtype=\"float32\",\n",
    "                        )\n",
    "                        sf.write(\n",
    "                            mixture_file_name,\n",
    "                            spk1_wav + spk2_wav,\n",
    "                            fs,\n",
    "                        )\n",
    "                        mic_num+=1\n",
    "            sample+=1\n",
    "        # break\n",
    "\n",
    "\n",
    "        # print(len(spk2_samples))\n",
    "    # print(spk_comb)\n",
    "    break"
   ]
  },
  {
   "cell_type": "code",
   "execution_count": null,
   "metadata": {},
   "outputs": [],
   "source": []
  }
 ],
 "metadata": {
  "interpreter": {
   "hash": "40d3a090f54c6569ab1632332b64b2c03c39dcf918b08424e98f38b5ae0af88f"
  },
  "kernelspec": {
   "display_name": "Python 3.9.7 ('base')",
   "language": "python",
   "name": "python3"
  },
  "language_info": {
   "codemirror_mode": {
    "name": "ipython",
    "version": 3
   },
   "file_extension": ".py",
   "mimetype": "text/x-python",
   "name": "python",
   "nbconvert_exporter": "python",
   "pygments_lexer": "ipython3",
   "version": "3.9.7"
  },
  "orig_nbformat": 4
 },
 "nbformat": 4,
 "nbformat_minor": 2
}

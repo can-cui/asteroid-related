{
 "cells": [
  {
   "cell_type": "code",
   "execution_count": 22,
   "metadata": {},
   "outputs": [],
   "source": [
    "import json\n",
    "import glob\n",
    "import os\n",
    "from pathlib import Path"
   ]
  },
  {
   "cell_type": "code",
   "execution_count": 3,
   "metadata": {},
   "outputs": [],
   "source": [
    "jsondir = \"/Users/ccui/Desktop/AMI_sample/data\"\n",
    "with open(file_path, 'r', encoding='utf-8') as f:\n",
    "    dataset = json.load(f)"
   ]
  },
  {
   "cell_type": "code",
   "execution_count": 28,
   "metadata": {},
   "outputs": [],
   "source": [
    "datadir = \"/Users/ccui/Desktop/AMI_sample/clips_synthesis_8array1_align\"\n",
    "target_datadir = \"/tmp/ccui-runtime-dir/clips_synthesis_8array1_align\"\n",
    "target_jsondir = \"/tmp/ccui-runtime-dir/data_clips_synthesis_4array1_st4k_a\""
   ]
  },
  {
   "cell_type": "code",
   "execution_count": 17,
   "metadata": {},
   "outputs": [
    {
     "name": "stdout",
     "output_type": "stream",
     "text": [
      "/tmp/clips_synthesis_8array1_align/IS1001a/sample263/spk1_mic4.wav\n"
     ]
    }
   ],
   "source": [
    "for clips in dataset:\n",
    "    # print(clips)\n",
    "    for channel_num in clips:\n",
    "        # print(channel_num)\n",
    "        channel = clips[channel_num]\n",
    "        # print(channel)\n",
    "        for mic_type in channel:\n",
    "            # print(mic_type)\n",
    "            if mic_type != \"length\":\n",
    "                channel[mic_type] = channel[mic_type].replace(\n",
    "                    datadir, target_datadir)\n",
    "\n",
    "                print(channel[mic_type])\n",
    "                # print(channel[mic_type])\n",
    "                break\n",
    "            break\n",
    "        break\n",
    "    break"
   ]
  },
  {
   "cell_type": "code",
   "execution_count": 29,
   "metadata": {},
   "outputs": [
    {
     "name": "stdout",
     "output_type": "stream",
     "text": [
      "/tmp/ccui-runtime-dir/data_clips_synthesis_4array1_st4k_a/test.json\n",
      "/tmp/ccui-runtime-dir/data_clips_synthesis_4array1_st4k_a/validation.json\n",
      "/tmp/ccui-runtime-dir/data_clips_synthesis_4array1_st4k_a/train.json\n"
     ]
    }
   ],
   "source": [
    "json_dir = \"/Users/ccui/Desktop/AMI_sample/data\"\n",
    "json_list = glob.glob(os.path.join(json_dir, \"*\"))\n",
    "for json_f in json_list:\n",
    "    datatype = Path(json_f).stem\n",
    "    with open(json_f, 'r', encoding='utf-8') as f:\n",
    "        dataset = json.load(f)\n",
    "    for clips in dataset:\n",
    "        for channel_num in clips:\n",
    "            channel = clips[channel_num]\n",
    "            for mic_type in channel:\n",
    "                # print(mic_type)\n",
    "                if mic_type != \"length\":\n",
    "                    channel[mic_type] = channel[mic_type].replace(\n",
    "                        datadir, target_datadir)\n",
    "\n",
    "    save_path = os.path.join(save_dir, datatype+\".json\")\n",
    "    with open(save_path, 'w') as f:\n",
    "        json.dump(dataset, f)\n",
    "    print(save_path)\n"
   ]
  },
  {
   "cell_type": "code",
   "execution_count": null,
   "metadata": {},
   "outputs": [],
   "source": []
  }
 ],
 "metadata": {
  "interpreter": {
   "hash": "40d3a090f54c6569ab1632332b64b2c03c39dcf918b08424e98f38b5ae0af88f"
  },
  "kernelspec": {
   "display_name": "Python 3.9.7 ('base')",
   "language": "python",
   "name": "python3"
  },
  "language_info": {
   "codemirror_mode": {
    "name": "ipython",
    "version": 3
   },
   "file_extension": ".py",
   "mimetype": "text/x-python",
   "name": "python",
   "nbconvert_exporter": "python",
   "pygments_lexer": "ipython3",
   "version": "3.9.7"
  },
  "orig_nbformat": 4
 },
 "nbformat": 4,
 "nbformat_minor": 2
}

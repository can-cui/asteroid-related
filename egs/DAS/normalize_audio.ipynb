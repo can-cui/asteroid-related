{
 "cells": [
  {
   "cell_type": "code",
   "execution_count": 1,
   "metadata": {},
   "outputs": [],
   "source": [
    "from pydub import AudioSegment\n",
    "from pydub.effects import normalize\n",
    "\n",
    "# Load your audio file\n",
    "\n",
    "def norm(input,output):\n",
    "    audio = AudioSegment.from_file(input)\n",
    "\n",
    "    # Normalize the audio to increase volume\n",
    "    normalized_audio = normalize(audio)\n",
    "\n",
    "    # Export the normalized audio to a new file\n",
    "    normalized_audio.export(output, format=\"wav\")\n",
    "\n",
    "# print(\"Audio normalization completed successfully!\")"
   ]
  },
  {
   "cell_type": "code",
   "execution_count": 5,
   "metadata": {},
   "outputs": [],
   "source": [
    "norm(\n",
    "    \"/Users/ccui/Desktop/POC/asteroid_results/AMIx/syAMI/2ch_2spk/ex_171/s1_estimate.wav\",\n",
    "    \"/Users/ccui/Desktop/POC/asteroid_results/AMIx/syAMI/2ch_2spk/ex_171/s1_estimate_norm.wav\",\n",
    ")"
   ]
  },
  {
   "cell_type": "code",
   "execution_count": 8,
   "metadata": {},
   "outputs": [],
   "source": [
    "norm(\n",
    "    \"/Users/ccui/Desktop/POC/asteroid_results/AMIx/real/audio_results_pretrained/itemES2006c_109_0_source2Est.wav\",\n",
    "    \"/Users/ccui/Desktop/POC/asteroid_results/AMIx/real/audio_results_pretrained/itemES2006c_109_0_source2Est_norm.wav\",\n",
    ")"
   ]
  },
  {
   "cell_type": "code",
   "execution_count": 11,
   "metadata": {},
   "outputs": [],
   "source": [
    "norm(\n",
    "    \"/Users/ccui/Desktop/inkscape/presentation/audio/headset_ex.wav\",\n",
    "    \"/Users/ccui/Desktop/inkscape/presentation/audio/headset_exx_norm.wav\",\n",
    ")"
   ]
  },
  {
   "cell_type": "code",
   "execution_count": null,
   "metadata": {},
   "outputs": [],
   "source": []
  }
 ],
 "metadata": {
  "kernelspec": {
   "display_name": "base",
   "language": "python",
   "name": "python3"
  },
  "language_info": {
   "codemirror_mode": {
    "name": "ipython",
    "version": 3
   },
   "file_extension": ".py",
   "mimetype": "text/x-python",
   "name": "python",
   "nbconvert_exporter": "python",
   "pygments_lexer": "ipython3",
   "version": "3.9.7"
  }
 },
 "nbformat": 4,
 "nbformat_minor": 2
}

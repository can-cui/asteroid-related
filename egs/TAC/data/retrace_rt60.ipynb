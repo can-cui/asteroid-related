{
 "cells": [
  {
   "cell_type": "code",
   "execution_count": 16,
   "metadata": {},
   "outputs": [],
   "source": [
    "from rt60 import t60_impulse\n",
    "import torch\n",
    "import numpy as np\n",
    "import soundfile"
   ]
  },
  {
   "cell_type": "code",
   "execution_count": 5,
   "metadata": {},
   "outputs": [],
   "source": [
    "rir_path = \"/Users/ccui/Desktop/nara_wpe/examples/rir/rir_10.pt\"\n",
    "rir10 = torch.load(rir_path)"
   ]
  },
  {
   "cell_type": "code",
   "execution_count": 11,
   "metadata": {},
   "outputs": [],
   "source": [
    "rir1_mix = rir10[2][2][0][0][0][0]\n",
    "rir2_src = rir10[2][2][0][1][0][0]\n",
    "bands = np.array([125 * pow(2,a) for a in range(6)]) \n",
    "def get_rt60(rir, nb_sample):\n",
    "    for i in range(nb_sample):\n",
    "        rir1_mix = rir[2][2][i][0][0][0]\n",
    "        rir2_src = rir[2][2][i][1][0][0]\n",
    "        rt60 = t60_impulse(rir1_mix, 16000, bands, rt='t10')\n",
    "        rt60_src = t60_impulse(rir2_src, 16000, bands, rt='t10')\n",
    "        print(\"rt60 \",rt60)\n",
    "        print(\"rt60_src \",rt60_src)\n"
   ]
  },
  {
   "cell_type": "code",
   "execution_count": 13,
   "metadata": {},
   "outputs": [
    {
     "name": "stdout",
     "output_type": "stream",
     "text": [
      "rt60  [0.84064601 0.85848831 0.64570919 0.83566583 0.65470817 0.63565341]\n",
      "rt60_src  [0.00227265 0.00205455 0.00810794 0.00747101 0.00408058 0.00259599]\n",
      "rt60  [0.73333972 0.82001617 0.76155446 0.79027824 0.82759334 0.83512534]\n",
      "rt60_src  [0.00280716 0.00188798 0.00684113 0.00401332 0.00399225 0.002455  ]\n",
      "rt60  [0.77042544 1.04930167 1.10716818 1.31454059 1.28719913 1.16854091]\n",
      "rt60_src  [0.00202654 0.00221196 0.00811641 0.00762691 0.00416461 0.00237062]\n",
      "rt60  [0.83605555 0.95254807 0.74130214 0.71339888 1.16434423 0.9590826 ]\n",
      "rt60_src  [0.01156869 0.0041148  0.01198435 0.00834695 0.0040201  0.00245361]\n",
      "rt60  [0.2867594  0.48737901 0.39756016 0.58213238 0.42615114 0.51749669]\n",
      "rt60_src  [0.00710392 0.0066387  0.00224726 0.00621878 0.0040309  0.00214901]\n",
      "rt60  [0.49600645 0.52579456 0.26036057 0.65134195 0.4376769  0.52967007]\n",
      "rt60_src  [0.00221917 0.00296064 0.00820998 0.00822997 0.00406725 0.00257429]\n",
      "rt60  [0.73220298 0.88025581 0.88810424 1.03522323 0.8643967  0.78452202]\n",
      "rt60_src  [0.00220147 0.00286972 0.00853756 0.00808541 0.00411811 0.00227889]\n",
      "rt60  [0.50864816 0.46057752 0.630054   0.45132507 0.32411776 0.42482689]\n",
      "rt60_src  [0.00449209 0.00271784 0.00556371 0.01352785        nan        nan]\n",
      "rt60  [0.77314202 0.92459787 0.94625054 0.99279613 1.10260565 0.87811989]\n",
      "rt60_src  [0.01744973 0.00414451 0.01354624 0.0083471  0.00422553 0.00249293]\n",
      "rt60  [0.54913501 0.47030611 0.6355768  0.82415212 0.53980302 0.56652999]\n",
      "rt60_src  [       nan        nan        nan        nan        nan 0.00038717]\n"
     ]
    }
   ],
   "source": [
    "get_rt60(rir10, 10)"
   ]
  },
  {
   "cell_type": "code",
   "execution_count": 8,
   "metadata": {},
   "outputs": [],
   "source": [
    "rir_path = \"/Users/ccui/Desktop/nara_wpe/examples/rir/rir_spk123_1234_1000.pt\"\n",
    "rir1000 = torch.load(rir_path)\n",
    "# get_rt60(rir1000, 10)"
   ]
  },
  {
   "cell_type": "code",
   "execution_count": 15,
   "metadata": {},
   "outputs": [
    {
     "name": "stdout",
     "output_type": "stream",
     "text": [
      "rt60  [0.49517052 0.74099857 0.77484963 0.76993526 0.79903513 0.63570239]\n",
      "rt60_src  [0.01584599 0.01069674 0.00271379 0.00705482 0.00409459 0.00261776]\n",
      "rt60  [0.76363082 0.76289325 1.09145367 1.21408307 1.350405   1.01423388]\n",
      "rt60_src  [0.0013357  0.00495264 0.00465559 0.00102169 0.00345759 0.00218882]\n",
      "rt60  [0.5583104  0.91777197 0.72544399 0.87926752 0.91269239 0.78296189]\n",
      "rt60_src  [0.0013301  0.00655358 0.00632364 0.00109008 0.00342336 0.00262139]\n",
      "rt60  [0.99701475 1.29837107 0.99547435 1.28033277 1.23417605 1.08461496]\n",
      "rt60_src  [0.00624815 0.00235831 0.00511155 0.00698358 0.00390536 0.00275942]\n",
      "rt60  [0.64383881 0.72722988 0.73855075 0.72158237 0.70313623 0.67760444]\n",
      "rt60_src  [0.01613373 0.00374296 0.00418657 0.00679945 0.00402844 0.00214236]\n",
      "rt60  [0.97749315 0.87768522 1.23313359 1.07536264 1.27907673 1.00873033]\n",
      "rt60_src  [0.00223758 0.00155217 0.00146898 0.0044234  0.00385854 0.00276325]\n",
      "rt60  [0.73912924 0.56793094 0.59770951 0.66882236 0.50640439 0.6315062 ]\n",
      "rt60_src  [0.00900953 0.00415575 0.01102427 0.00829936 0.00397391 0.00243755]\n",
      "rt60  [0.3970047  0.38332757 0.63485693 0.80618958 0.36814654 0.48205104]\n",
      "rt60_src  [0.0022495  0.00278629 0.00841429 0.00806283 0.00412826 0.00229805]\n",
      "rt60  [0.88096614 0.8690579  1.05474444 1.23476083 0.97326604 0.98740279]\n",
      "rt60_src  [0.0042503  0.00404734 0.00847406 0.00822767 0.00390533 0.00275783]\n",
      "rt60  [0.53641959 0.55264196 0.4267996  0.45289056 0.40635247 0.48978918]\n",
      "rt60_src  [0.00529852 0.00235412 0.00516772 0.00700413 0.00392721 0.00276744]\n"
     ]
    }
   ],
   "source": [
    "get_rt60(rir1000, 10)"
   ]
  },
  {
   "cell_type": "code",
   "execution_count": 25,
   "metadata": {},
   "outputs": [
    {
     "name": "stdout",
     "output_type": "stream",
     "text": [
      "[41.02513751 39.12892217 36.32481193 56.77973674 51.23475996 50.26340062]\n",
      "[3.40930077 3.23855694 2.72168501 9.46315631 6.77286853 1.62443012]\n",
      "**********\n",
      "[24.35672874 22.5144288  27.27663118 40.32736149 44.12997205 42.95565637]\n",
      "[ 6.24149619  9.83039338 11.54376163  9.06227214  7.58227168 10.15330833]\n",
      "**********\n",
      "[33.83751262 44.70726625 39.41508586 22.5850107  36.87768662 24.32662363]\n",
      "[ 2.82223689  2.78617771  5.11718926 15.78932512  4.54500593  8.59991101]\n",
      "**********\n",
      "[33.7027994  33.1967456  46.01809431 42.56823071 46.42238995 37.61856494]\n",
      "[15.95362555 29.45319644 22.2302391  19.81038418 21.08158841 89.84275898]\n"
     ]
    }
   ],
   "source": [
    "mix_path = \"/Users/ccui/Desktop/asteroid_results/jeanzay/2spk10rir/ex_30/mixture.wav\"\n",
    "audio, fs = soundfile.read(mix_path)\n",
    "rt60 = t60_impulse(audio, fs, bands, rt='t10')\n",
    "print(rt60)\n",
    "mix_path = \"/Users/ccui/Desktop/asteroid_results/jeanzay/2spk10rir/ex_30/s1.wav\"\n",
    "audio, fs = soundfile.read(mix_path)\n",
    "rt60 = t60_impulse(audio, fs, bands, rt='t10')\n",
    "print(rt60)\n",
    "print('*'*10)\n",
    "mix_path = \"/Users/ccui/Desktop/asteroid_results/jeanzay/2spk10rir/ex_143/mixture.wav\"\n",
    "audio, fs = soundfile.read(mix_path)\n",
    "rt60 = t60_impulse(audio, fs, bands, rt='t10')\n",
    "print(rt60)\n",
    "mix_path = \"/Users/ccui/Desktop/asteroid_results/jeanzay/2spk10rir/ex_143/s1.wav\"\n",
    "audio, fs = soundfile.read(mix_path)\n",
    "rt60 = t60_impulse(audio, fs, bands, rt='t10')\n",
    "print(rt60)\n",
    "print('*'*10)\n",
    "mix_path = \"/Users/ccui/Desktop/asteroid_results/jeanzay/2spk10rir/ex_343/mixture.wav\"\n",
    "audio, fs = soundfile.read(mix_path)\n",
    "rt60 = t60_impulse(audio, fs, bands, rt='t10')\n",
    "print(rt60)\n",
    "mix_path = \"/Users/ccui/Desktop/asteroid_results/jeanzay/2spk10rir/ex_343/s1.wav\"\n",
    "audio, fs = soundfile.read(mix_path)\n",
    "rt60 = t60_impulse(audio, fs, bands, rt='t10')\n",
    "print(rt60)\n",
    "print('*'*10)\n",
    "mix_path = \"/Users/ccui/Desktop/asteroid_results/jeanzay/2spk10rir/ex_403/mixture.wav\"\n",
    "audio, fs = soundfile.read(mix_path)\n",
    "rt60 = t60_impulse(audio, fs, bands, rt='t10')\n",
    "print(rt60)\n",
    "mix_path = \"/Users/ccui/Desktop/asteroid_results/jeanzay/2spk10rir/ex_403/s1.wav\"\n",
    "audio, fs = soundfile.read(mix_path)\n",
    "rt60 = t60_impulse(audio, fs, bands, rt='t10')\n",
    "print(rt60)"
   ]
  },
  {
   "cell_type": "code",
   "execution_count": 26,
   "metadata": {},
   "outputs": [
    {
     "name": "stdout",
     "output_type": "stream",
     "text": [
      "[1.02296231 6.07836485 9.02978554 5.04983867 3.14388304 2.66205217]\n",
      "[3.42207606 3.24528347 2.71651738 9.46282518 6.75886648 1.62658323]\n",
      "**********\n",
      "[16.88899957 20.65953965 30.62584465 45.4436605  42.02838344 26.10138877]\n",
      "[ 6.23494941  9.82786346 11.53102145  9.06822291  7.57953825 10.14569993]\n",
      "**********\n",
      "[17.08726472 27.47976699 26.73685088 20.91715504 18.16317742 12.3636062 ]\n",
      "[ 2.81927062  2.78582446  5.12276991 15.79078921  4.56710387  8.52912586]\n",
      "**********\n",
      "[41.77121474 39.88281501 43.58295928 34.98562003 46.80249355 30.07193492]\n",
      "[15.95449635 29.45526643 22.23054656 19.80237276 21.08396331 89.78520941]\n"
     ]
    }
   ],
   "source": [
    "mix_path = \"/Users/ccui/Desktop/asteroid_results/jeanzay/2spk/examples/ex_30/mixture.wav\"\n",
    "audio, fs = soundfile.read(mix_path)\n",
    "rt60 = t60_impulse(audio, fs, bands, rt='t10')\n",
    "print(rt60)\n",
    "mix_path = \"/Users/ccui/Desktop/asteroid_results/jeanzay/2spk/examples/ex_30/s1.wav\"\n",
    "audio, fs = soundfile.read(mix_path)\n",
    "rt60 = t60_impulse(audio, fs, bands, rt='t10')\n",
    "print(rt60)\n",
    "print('*'*10)\n",
    "mix_path = \"/Users/ccui/Desktop/asteroid_results/jeanzay/2spk/examples/ex_143/mixture.wav\"\n",
    "audio, fs = soundfile.read(mix_path)\n",
    "rt60 = t60_impulse(audio, fs, bands, rt='t10')\n",
    "print(rt60)\n",
    "mix_path = \"/Users/ccui/Desktop/asteroid_results/jeanzay/2spk/examples/ex_143/s1.wav\"\n",
    "audio, fs = soundfile.read(mix_path)\n",
    "rt60 = t60_impulse(audio, fs, bands, rt='t10')\n",
    "print(rt60)\n",
    "print('*'*10)\n",
    "mix_path = \"/Users/ccui/Desktop/asteroid_results/jeanzay/2spk/examples/ex_343/mixture.wav\"\n",
    "audio, fs = soundfile.read(mix_path)\n",
    "rt60 = t60_impulse(audio, fs, bands, rt='t10')\n",
    "print(rt60)\n",
    "mix_path = \"/Users/ccui/Desktop/asteroid_results/jeanzay/2spk/examples/ex_343/s1.wav\"\n",
    "audio, fs = soundfile.read(mix_path)\n",
    "rt60 = t60_impulse(audio, fs, bands, rt='t10')\n",
    "print(rt60)\n",
    "print('*'*10)\n",
    "mix_path = \"/Users/ccui/Desktop/asteroid_results/jeanzay/2spk/examples/ex_403/mixture.wav\"\n",
    "audio, fs = soundfile.read(mix_path)\n",
    "rt60 = t60_impulse(audio, fs, bands, rt='t10')\n",
    "print(rt60)\n",
    "mix_path = \"/Users/ccui/Desktop/asteroid_results/jeanzay/2spk/examples/ex_403/s1.wav\"\n",
    "audio, fs = soundfile.read(mix_path)\n",
    "rt60 = t60_impulse(audio, fs, bands, rt='t10')\n",
    "print(rt60)"
   ]
  },
  {
   "cell_type": "code",
   "execution_count": null,
   "metadata": {},
   "outputs": [],
   "source": []
  }
 ],
 "metadata": {
  "kernelspec": {
   "display_name": "Python 3",
   "language": "python",
   "name": "python3"
  },
  "language_info": {
   "codemirror_mode": {
    "name": "ipython",
    "version": 3
   },
   "file_extension": ".py",
   "mimetype": "text/x-python",
   "name": "python",
   "nbconvert_exporter": "python",
   "pygments_lexer": "ipython3",
   "version": "3.9.7"
  },
  "orig_nbformat": 4
 },
 "nbformat": 4,
 "nbformat_minor": 2
}

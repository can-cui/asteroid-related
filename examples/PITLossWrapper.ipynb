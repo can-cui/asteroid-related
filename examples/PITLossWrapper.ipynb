{
 "cells": [
  {
   "cell_type": "markdown",
   "metadata": {},
   "source": [
    "## Permutation invariant training\n",
    "Permutation invariant training (PIT) was succesfully introduced to train DNN-based speaker-independent speech separation systems [1, 2, 3, 4]. Since then, it has been applied to environmental source separation [5] and classification [6], and end-to-end diarization [7, 8].\n",
    "There has also been recent work to extend or improve on PIT-based training [9, 10, 11].\n",
    "\n",
    "Asteroid provides `PITLossWrapper`, a flexible class which enables seamless transformation of simple loss functions into permutation invariant losses, for any loss function and any number of sources!\n",
    "\n",
    "It supports three types of loss functions :\n",
    "- 1) The loss function compute the average loss for a given permutation (over all source-estimates). `PITLossWrapper` loops over the permutations and returns the minimum loss, the one to be backproped. (`mode = w_src`)\n",
    "- 2) Second way, compute pair wise losses and take the mean over each permutation. \n",
    "  - a) The pairwise losses can be computed using one function. In this case `PITLossWrapper` finds the best permutation and returns the minimum loss. (`mode = pairwise`)\n",
    "  - b) The provided function computes the loss for one given target-estimate pair. `PITLossWrapper` computes the pairwise losses by calling this function on each pair. It then finds the best permutation and returns the minimum loss as done in 2b. (`mode = wo_src`)\n",
    " \n",
    "In addition, we provide common loss functions in these three forms.  \n",
    "Let's try to understand these three ways of computing PIT losses."
   ]
  },
  {
   "cell_type": "code",
   "execution_count": 1,
   "metadata": {},
   "outputs": [],
   "source": [
    "import torch\n",
    "from itertools import permutations\n",
    "import numpy as np\n",
    "import matplotlib.pyplot as plt\n",
    "\n",
    "from asteroid.losses import PITLossWrapper\n",
    "from asteroid.losses import pairwise_mse, nosrc_mse, nonpit_mse"
   ]
  },
  {
   "cell_type": "code",
   "execution_count": 2,
   "metadata": {},
   "outputs": [],
   "source": [
    "# To be able to visualize some results, we will take a batch size of 1.\n",
    "batch_size, n_sources, feat_dim = 1, 4, 50\n",
    "# First, take random sources\n",
    "sources = torch.randn(batch_size, n_sources, feat_dim)\n",
    "# Generate estimates : Randomly permute the sources and add some noise.\n",
    "random_permutation = torch.randperm(n_sources)\n",
    "estimate_sources = sources[:, random_permutation] + torch.randn(batch_size, n_sources, feat_dim)"
   ]
  },
  {
   "cell_type": "markdown",
   "metadata": {},
   "source": [
    "### 1. The Naive Way.\n",
    "The naive way consists in looping over all permutations on the source axis to find the best one.\n",
    "It corresponds to the `mode='w_src'`, meaning `with source axis` because the loss function is computed for a set of sources and their estimates."
   ]
  },
  {
   "cell_type": "code",
   "execution_count": 3,
   "metadata": {},
   "outputs": [
    {
     "name": "stdout",
     "output_type": "stream",
     "text": [
      "Best permutation : (1, 3, 0, 2). 0riginal permutation : tensor([1, 3, 0, 2])\n"
     ]
    }
   ],
   "source": [
    "# The naive way. Find the best loss by looping over the permutations.\n",
    "perms = list(permutations(range(n_sources)))\n",
    "all_losses = torch.stack([nonpit_mse(sources[:, p], estimate_sources) for p in perms])\n",
    "\n",
    "best_loss_idx = torch.argmin(all_losses)\n",
    "# We will backprop all_losses[best_loss_idx]\n",
    "print(\"Best permutation : {}. 0riginal permutation : {}\".format(perms[best_loss_idx], random_permutation))\n",
    "\n",
    "# This is equivalent to :\n",
    "loss_func = PITLossWrapper(nonpit_mse, mode='w_src')\n",
    "best_loss = loss_func(sources, estimate_sources)"
   ]
  },
  {
   "cell_type": "markdown",
   "metadata": {},
   "source": [
    "### 2. More efficient way\n",
    "The first thing to notice is that the loss on one permutation is the sum of between-source losses. We can speed up the naive approach by computing individual pairwise losses and averaging them to compute the loss for each permutation. We can compute the pairwise losses in two ways : \n",
    "- The given function compute the loss function for a given pair and we can loop over the pairs. (`mode='wo_src'` for without source axis.)\n",
    "- The given function computes them directly. (`mode='pairwise'`)"
   ]
  },
  {
   "cell_type": "code",
   "execution_count": 4,
   "metadata": {},
   "outputs": [
    {
     "data": {
      "image/png": "[encoded data removed]",
      "text/plain": [
       "<Figure size 432x288 with 1 Axes>"
      ]
     },
     "metadata": {
      "needs_background": "light"
     },
     "output_type": "display_data"
    }
   ],
   "source": [
    "# Without source axis, let's compute the loss for each source-estimate pair.\n",
    "def mse(target, est_target):\n",
    "    \"\"\" Batch MSE between a source and its estimate\"\"\"\n",
    "    loss = (target - est_target)**2\n",
    "    return loss.mean(-1)\n",
    "\n",
    "# Compute pairwise losses\n",
    "pairwise_losses = torch.zeros(batch_size, n_sources, n_sources)\n",
    "for i in range(n_sources):\n",
    "    for j in range(n_sources):\n",
    "        pairwise_losses[:, i, j] = mse(sources[:, j], estimate_sources[:, i])\n",
    "# Plot the pairwise losses\n",
    "ax = plt.imshow(pairwise_losses[0].data.numpy())"
   ]
  },
  {
   "cell_type": "code",
   "execution_count": 5,
   "metadata": {},
   "outputs": [
    {
     "data": {
      "image/png": "[encoded data removed]",
      "text/plain": [
       "<Figure size 432x288 with 1 Axes>"
      ]
     },
     "metadata": {
      "needs_background": "light"
     },
     "output_type": "display_data"
    }
   ],
   "source": [
    "# We can also compute the pairwise losses directly using dimension broadcasting\n",
    "def pairwise_mse(targets, est_targets):\n",
    "    \"\"\" Batch pairwise MSE. \"\"\"\n",
    "    targets = targets.unsqueeze(1)\n",
    "    est_targets = est_targets.unsqueeze(2)\n",
    "    pw_loss = (targets - est_targets)**2\n",
    "    mean_over = list(range(3, pw_loss.ndim))\n",
    "    return pw_loss.mean(dim=mean_over)\n",
    "# Compute pairwise losses using broadcasting (+ unit test equality)\n",
    "direct_pairwise_losses = pairwise_mse(sources, estimate_sources)\n",
    "torch.testing.assert_allclose(pairwise_losses, direct_pairwise_losses)\n",
    "# Plot the pairwise losses\n",
    "ax = plt.imshow(direct_pairwise_losses[0].data.numpy())"
   ]
  },
  {
   "cell_type": "markdown",
   "metadata": {},
   "source": [
    "Now that we have the loss values for each source-estimate pair, we can compute the average over this matrix for each permutation. \n",
    "Below are plotted the one-hot permutation matrices, which will be individually multiplied with the `pairwise_losses`."
   ]
  },
  {
   "cell_type": "code",
   "execution_count": 6,
   "metadata": {},
   "outputs": [
    {
     "data": {
      "image/png": "[encoded data removed]",
      "text/plain": [
       "<Figure size 1440x216 with 24 Axes>"
      ]
     },
     "metadata": {
      "needs_background": "light"
     },
     "output_type": "display_data"
    },
    {
     "data": {
      "image/png": "[encoded data removed]",
      "text/plain": [
       "<Figure size 1440x216 with 24 Axes>"
      ]
     },
     "metadata": {
      "needs_background": "light"
     },
     "output_type": "display_data"
    }
   ],
   "source": [
    "# Let's plot all the permutation matrices\n",
    "eye = torch.eye(n_sources)\n",
    "perms_one_hot = torch.stack([eye[:, perm] for perm in perms], dim=0)\n",
    "fig, axs = plt.subplots(2, len(perms)//2, figsize=(20, 3))\n",
    "fig.suptitle('One-hot permutation matrices', fontsize=16)\n",
    "for i in range(len(perms)):\n",
    "    col, line = divmod(i, 2)\n",
    "    axs[line, col].imshow((perms_one_hot[i]).data.numpy())\n",
    "    axs[line, col].set_axis_off()\n",
    "\n",
    "fig, axs = plt.subplots(2, len(perms)//2, figsize=(20, 3))\n",
    "fig.suptitle('Pairwise loss matrix multiplied by one-hot permutation matrices', fontsize=16)\n",
    "for i in range(len(perms)):\n",
    "    col, line = divmod(i, 2)\n",
    "    axs[line, col].imshow((perms_one_hot[i] * pairwise_losses[0]).data.numpy())\n",
    "    axs[line, col].set_axis_off()"
   ]
  },
  {
   "cell_type": "markdown",
   "metadata": {},
   "source": [
    "The mean of each matrix above is a potential loss, the minimum of which will be backproped."
   ]
  },
  {
   "cell_type": "markdown",
   "metadata": {},
   "source": [
    "### Timing the three approaches, for MSE and SI-SDR"
   ]
  },
  {
   "cell_type": "code",
   "execution_count": 7,
   "metadata": {},
   "outputs": [
    {
     "name": "stdout",
     "output_type": "stream",
     "text": [
      "For MSE\n",
      "1. Naive approach \n",
      "777 µs ± 9.52 µs per loop (mean ± std. dev. of 7 runs, 1000 loops each)\n",
      "2. More efficient approaches (b)\n",
      "618 µs ± 15.9 µs per loop (mean ± std. dev. of 7 runs, 1000 loops each)\n",
      "2. More efficient approaches (b)\n",
      "121 µs ± 2.83 µs per loop (mean ± std. dev. of 7 runs, 10000 loops each)\n"
     ]
    }
   ],
   "source": [
    "print(\"For MSE\")\n",
    "print(\"1. Naive approach \")\n",
    "loss_func = PITLossWrapper(nonpit_mse, mode='w_src')\n",
    "%timeit best_loss = loss_func(sources, estimate_sources)\n",
    "print(\"2. More efficient approaches (b)\")\n",
    "loss_func = PITLossWrapper(nosrc_mse, mode='wo_src')\n",
    "%timeit best_loss = loss_func(sources, estimate_sources)\n",
    "print(\"2. More efficient approaches (b)\")\n",
    "loss_func = PITLossWrapper(pairwise_mse, mode='pairwise')\n",
    "%timeit best_loss = loss_func(sources, estimate_sources)"
   ]
  },
  {
   "cell_type": "code",
   "execution_count": 8,
   "metadata": {},
   "outputs": [
    {
     "name": "stdout",
     "output_type": "stream",
     "text": [
      "For SI-SDR\n",
      "1. Naive approach \n",
      "3.02 ms ± 69.6 µs per loop (mean ± std. dev. of 7 runs, 100 loops each)\n",
      "2. More efficient approaches (b)\n",
      "1.92 ms ± 79.7 µs per loop (mean ± std. dev. of 7 runs, 1000 loops each)\n",
      "2. More efficient approaches (b)\n",
      "217 µs ± 1.75 µs per loop (mean ± std. dev. of 7 runs, 1000 loops each)\n"
     ]
    }
   ],
   "source": [
    "from asteroid.losses import pairwise_neg_sisdr, nosrc_neg_sisdr, nonpit_neg_sisdr\n",
    "print(\"For SI-SDR\")\n",
    "print(\"1. Naive approach \")\n",
    "loss_func = PITLossWrapper(nonpit_neg_sisdr, mode='w_src')\n",
    "%timeit best_loss = loss_func(sources, estimate_sources)\n",
    "print(\"2. More efficient approaches (b)\")\n",
    "loss_func = PITLossWrapper(nosrc_neg_sisdr, mode='wo_src')\n",
    "%timeit best_loss = loss_func(sources, estimate_sources)\n",
    "print(\"2. More efficient approaches (b)\")\n",
    "loss_func = PITLossWrapper(pairwise_neg_sisdr, mode='pairwise')\n",
    "%timeit best_loss = loss_func(sources, estimate_sources)"
   ]
  },
  {
   "cell_type": "markdown",
   "metadata": {},
   "source": [
    "### Citations:\n",
    "Classic PIT-based speech separation :\n",
    "- [1] Yu, Dong et al. “Permutation Invariant Training of Deep Models for Speaker-Independent Multi-Talker Speech Separation.” 2017 IEEE International Conference on Acoustics, Speech and Signal Processing (ICASSP).  \n",
    "- [2] Morten Kolbæk et al. \"Multi-talker Speech Separation with Utterance-level Permutation Invariant Training of Deep Recurrent Neural Networks.\" 2017  \n",
    "- [3] Luo, Yi, and Nima Mesgarani. “Conv-TasNet: Surpassing Ideal Time–Frequency Magnitude Masking for Speech Separation.” IEEE/ACM Transactions on Audio, Speech, and Language Processing 27.8 (2019)  \n",
    "- [4] Takahashi, Naoya et al. “Recursive Speech Separation for Unknown Number of Speakers.” Interspeech 2019.  \n",
    "\n",
    "PIT-based environmental sound separation : \n",
    "- [5] Kavalerov, Ilya et al. “Universal Sound Separation.” 2019 IEEE Workshop on Applications of Signal Processing to Audio and Acoustics (WASPAA)   \n",
    "- [6] Tzinis, Efthymios et al. \"Improving Universal Sound Separation Using Sound Classification\", 2019. \n",
    "\n",
    "PIT-based end-to-end diariazation\n",
    "- [7] Fujita, Yusuke et al. \"End-to-End Neural Speaker Diarization with Permutation-Free Objectives\", Interspeech 2019\n",
    "- [8] Fujita, Yusuke et al. \"End-to-End Neural Speaker Diarization with Self-attention\", arXiv 2019\n",
    "\n",
    "Papers on PIT alternatives :\n",
    "- [9] C. Fan et al. \"Utterance-level Permutation Invariant Training with Discriminative Learning for Single Channel Speech Separation,\" 2018 11th International Symposium on Chinese Spoken Language Processing (ISCSLP).  \n",
    "- [10] Yang, Gene-Ping et al. \"Interrupted and cascaded permutation invariant training for speech separation\" 2019.  \n",
    "- [11] Yousefi, Midia et al. “Probabilistic Permutation Invariant Training for Speech Separation.” Interspeech 2019   "
   ]
  }
 ],
 "metadata": {
  "kernelspec": {
   "display_name": ".virtualenvs",
   "language": "python",
   "name": ".virtualenvs"
  },
  "language_info": {
   "codemirror_mode": {
    "name": "ipython",
    "version": 3
   },
   "file_extension": ".py",
   "mimetype": "text/x-python",
   "name": "python",
   "nbconvert_exporter": "python",
   "pygments_lexer": "ipython3",
   "version": "3.6.9"
  }
 },
 "nbformat": 4,
 "nbformat_minor": 4
}
